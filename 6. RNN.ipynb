{
 "cells": [
  {
   "cell_type": "markdown",
   "metadata": {},
   "source": [
    "# Importing relevant libraries"
   ]
  },
  {
   "cell_type": "code",
   "execution_count": 7,
   "metadata": {},
   "outputs": [],
   "source": [
    "import pandas as pd # For loading the dataframe\n",
    "import matplotlib.pyplot as plt # For plotting the graphs\n",
    "import pickle # For saving and loading\n",
    "import numpy as np\n",
    "import seaborn as sns # For the confusion matrix\n",
    "\n",
    "import nltk # Used for preprocessing\n",
    "import string # Used for preprocessing\n",
    "from nltk.tokenize import word_tokenize # Used for preprocessing\n",
    "from nltk.corpus import stopwords # Used for preprocessing\n",
    "from nltk.stem   import WordNetLemmatizer # Used for preprocessing\n",
    "\n",
    "from tensorflow.keras.preprocessing.text import Tokenizer # Used for word embedding for NN\n",
    "from tensorflow.keras.preprocessing.sequence import pad_sequences # Used for word embedding for NN\n",
    "\n",
    "from sklearn.model_selection import train_test_split # For splitting the data\n",
    "from tensorflow.keras.models import Sequential, model_from_json # Used for building and loading the RNN-LSTM\n",
    "from tensorflow.keras.layers import Embedding, LSTM, Dropout, Dense # Used for building the RNN-LSTM\n",
    "\n",
    "from sklearn.metrics import classification_report # Used for model evaluation\n",
    "from sklearn.metrics import confusion_matrix # Used for model evaluation"
   ]
  },
  {
   "cell_type": "markdown",
   "metadata": {},
   "source": [
    "# Loading the data"
   ]
  },
  {
   "cell_type": "code",
   "execution_count": 33,
   "metadata": {},
   "outputs": [],
   "source": [
    "# Loading the dataset\n",
    "df = pd.read_csv('WELFake_Dataset.csv', index_col = 0)\n",
    "df = df.dropna()"
   ]
  },
  {
   "cell_type": "markdown",
   "metadata": {},
   "source": [
    "# Preprocessing the data"
   ]
  },
  {
   "cell_type": "code",
   "execution_count": 34,
   "metadata": {},
   "outputs": [],
   "source": [
    "# Preprocessing function\n",
    "\n",
    "def preprocess_text(text):\n",
    "    text = ''.join([c for c in text if c not in string.punctuation and c not in string.digits])\n",
    "    tokens = word_tokenize(text, 'english')\n",
    "    lowered = [x.lower() for x in tokens] # new\n",
    "    lemmatiser = WordNetLemmatizer()\n",
    "    lemmatized = [lemmatiser.lemmatize(word) for word in lowered] # Adjusted\n",
    "    sw = stopwords.words('english')\n",
    "    stopped = [word for word in lemmatized if word.lower() not in sw]\n",
    "    return stopped"
   ]
  },
  {
   "cell_type": "code",
   "execution_count": 35,
   "metadata": {},
   "outputs": [],
   "source": [
    "X = df['text']\n",
    "y = df['label']"
   ]
  },
  {
   "cell_type": "code",
   "execution_count": 36,
   "metadata": {},
   "outputs": [],
   "source": [
    "X_store = []\n",
    "for i in X[:]:\n",
    "    X_store.append(preprocess_text(i))\n",
    "X = X_store"
   ]
  },
  {
   "cell_type": "markdown",
   "metadata": {},
   "source": [
    "# Feature extraction"
   ]
  },
  {
   "cell_type": "code",
   "execution_count": 37,
   "metadata": {},
   "outputs": [],
   "source": [
    "max_features = 512 # Max words in the vectors\n",
    "tokenizer = Tokenizer(num_words = max_features) # Tokenizing the text into numbers\n",
    "tokenizer.fit_on_texts(texts = X) # Building the vocabulary\n",
    "X_2 = tokenizer.texts_to_sequences(texts = X) # Tokenized words as X data from the train dataset"
   ]
  },
  {
   "cell_type": "code",
   "execution_count": 38,
   "metadata": {},
   "outputs": [],
   "source": [
    "X = pad_sequences(sequences = X_2, maxlen = max_features, padding = 'pre') # Padding the X data to 4500\n",
    "y = y.values # Subsetting the y data from the train dataset"
   ]
  },
  {
   "cell_type": "markdown",
   "metadata": {},
   "source": [
    "# Splitting the data"
   ]
  },
  {
   "cell_type": "code",
   "execution_count": 14,
   "metadata": {},
   "outputs": [],
   "source": [
    "X_train, X_test, y_train, y_test = train_test_split(X, y, test_size = 0.2, random_state = 101) # Separating train data\n",
    "X_test, X_val, y_test, y_val = train_test_split(X_test, y_test, test_size = 0.5, random_state = 101) # Separating train data"
   ]
  },
  {
   "cell_type": "markdown",
   "metadata": {},
   "source": [
    "# Tuning the model"
   ]
  },
  {
   "cell_type": "code",
   "execution_count": 9,
   "metadata": {},
   "outputs": [],
   "source": [
    "def create_model():\n",
    "    model = Sequential()\n",
    "    model.add(layer = Embedding(input_dim = max_features, output_dim = 128, name = '1st_layer'))\n",
    "    model.add(layer = LSTM(units = 128, dropout = 0.2, recurrent_dropout = 0.2, name = '2nd_layer'))\n",
    "    model.add(layer = Dropout(rate = 0.5, name = '3rd_layer'))\n",
    "    model.add(layer = Dense(units = 64,  activation = 'relu', name = '4th_layer'))\n",
    "    model.add(layer = Dropout(rate = 0.5, name = '5th_layer'))\n",
    "    model.add(layer = Dense(units = 1,  activation = 'sigmoid', name = 'output_layer'))\n",
    "    model.compile(optimizer = 'adam', loss = 'BinaryCrossentropy', metrics = ['accuracy'])\n",
    "    return model"
   ]
  },
  {
   "cell_type": "code",
   "execution_count": 12,
   "metadata": {},
   "outputs": [
    {
     "name": "stderr",
     "output_type": "stream",
     "text": [
      "<ipython-input-12-9f2b313fe0ec>:6: DeprecationWarning: KerasClassifier is deprecated, use Sci-Keras (https://github.com/adriangb/scikeras) instead. See https://www.adriangb.com/scikeras/stable/migration.html for help migrating.\n",
      "  model = KerasClassifier(build_fn=create_model, verbose = 0)\n"
     ]
    },
    {
     "name": "stdout",
     "output_type": "stream",
     "text": [
      "Best: 0.963567 using {'batch_size': 16, 'epochs': 10}\n",
      "0.963567 (0.001345) with: {'batch_size': 16, 'epochs': 10}\n",
      "0.960981 (0.003198) with: {'batch_size': 32, 'epochs': 10}\n",
      "0.952751 (0.001886) with: {'batch_size': 64, 'epochs': 10}\n"
     ]
    }
   ],
   "source": [
    "from keras.wrappers.scikit_learn import KerasClassifier\n",
    "from sklearn.model_selection import GridSearchCV\n",
    "\n",
    "# Preparing\n",
    "seed = 7\n",
    "np.random.seed(seed)\n",
    "model = KerasClassifier(build_fn=create_model, verbose = 0)\n",
    "\n",
    "# Implementing the hyperparameters in Grid Search\n",
    "batch_size = [16, 32, 64]\n",
    "epochs = [10]#, 25, 50\n",
    "param_grid = dict(batch_size=batch_size, epochs = epochs)\n",
    "grid = GridSearchCV(estimator=model, param_grid=param_grid, n_jobs=-1, cv=2)\n",
    "grid_result = grid.fit(X_train, y_train)\n",
    "\n",
    "# Printing results\n",
    "print(\"Best: %f using %s\" % (grid_result.best_score_, grid_result.best_params_))\n",
    "means = grid_result.cv_results_['mean_test_score']\n",
    "stds = grid_result.cv_results_['std_test_score']\n",
    "params = grid_result.cv_results_['params']\n",
    "for mean, stdev, param in zip(means, stds, params):\n",
    "    print(\"%f (%f) with: %r\" % (mean, stdev, param))"
   ]
  },
  {
   "cell_type": "markdown",
   "metadata": {},
   "source": [
    "# Training the model"
   ]
  },
  {
   "cell_type": "code",
   "execution_count": 121,
   "metadata": {},
   "outputs": [],
   "source": [
    "# LSTM Neural Network\n",
    "lstm_model = Sequential(name = 'lstm_nn_model')\n",
    "lstm_model.add(layer = Embedding(input_dim = max_features, output_dim = 128, name = '1st_layer'))\n",
    "lstm_model.add(layer = LSTM(units = 128, dropout = 0.2, recurrent_dropout = 0.2, name = '2nd_layer'))\n",
    "lstm_model.add(layer = Dropout(rate = 0.5, name = '3rd_layer'))\n",
    "lstm_model.add(layer = Dense(units = 64,  activation = 'relu', name = '4th_layer'))\n",
    "lstm_model.add(layer = Dropout(rate = 0.5, name = '5th_layer'))\n",
    "lstm_model.add(layer = Dense(units = 1,  activation = 'sigmoid', name = 'output_layer'))\n",
    "# compiling the model\n",
    "lstm_model.compile(optimizer = 'adam', loss = 'BinaryCrossentropy', metrics = ['accuracy'])"
   ]
  },
  {
   "cell_type": "code",
   "execution_count": 122,
   "metadata": {},
   "outputs": [
    {
     "name": "stdout",
     "output_type": "stream",
     "text": [
      "Model: \"lstm_nn_model\"\n",
      "_________________________________________________________________\n",
      " Layer (type)                Output Shape              Param #   \n",
      "=================================================================\n",
      " 1st_layer (Embedding)       (None, None, 128)         65536     \n",
      "                                                                 \n",
      " 2nd_layer (LSTM)            (None, 128)               131584    \n",
      "                                                                 \n",
      " 3rd_layer (Dropout)         (None, 128)               0         \n",
      "                                                                 \n",
      " 4th_layer (Dense)           (None, 64)                8256      \n",
      "                                                                 \n",
      " 5th_layer (Dropout)         (None, 64)                0         \n",
      "                                                                 \n",
      " output_layer (Dense)        (None, 1)                 65        \n",
      "                                                                 \n",
      "=================================================================\n",
      "Total params: 205,441\n",
      "Trainable params: 205,441\n",
      "Non-trainable params: 0\n",
      "_________________________________________________________________\n"
     ]
    }
   ],
   "source": [
    "lstm_model.summary()"
   ]
  },
  {
   "cell_type": "code",
   "execution_count": 124,
   "metadata": {},
   "outputs": [
    {
     "name": "stdout",
     "output_type": "stream",
     "text": [
      "Epoch 1/20\n",
      "895/895 [==============================] - 2865s 3s/step - loss: 0.2515 - accuracy: 0.9084 - val_loss: 0.2213 - val_accuracy: 0.9175\n",
      "Epoch 2/20\n",
      "895/895 [==============================] - 2873s 3s/step - loss: 0.1917 - accuracy: 0.9306 - val_loss: 0.1587 - val_accuracy: 0.9431\n",
      "Epoch 3/20\n",
      "895/895 [==============================] - 33922s 38s/step - loss: 0.1722 - accuracy: 0.9366 - val_loss: 0.1620 - val_accuracy: 0.9402\n",
      "Epoch 4/20\n",
      "895/895 [==============================] - 14572s 16s/step - loss: 0.2224 - accuracy: 0.9200 - val_loss: 0.1906 - val_accuracy: 0.9275\n",
      "Epoch 5/20\n",
      "895/895 [==============================] - 4288s 5s/step - loss: 0.2163 - accuracy: 0.9158 - val_loss: 0.1369 - val_accuracy: 0.9491\n",
      "Epoch 6/20\n",
      "895/895 [==============================] - 3770s 4s/step - loss: 0.1312 - accuracy: 0.9545 - val_loss: 0.1182 - val_accuracy: 0.9565\n",
      "Epoch 7/20\n",
      "895/895 [==============================] - 1329s 1s/step - loss: 0.1104 - accuracy: 0.9621 - val_loss: 0.1122 - val_accuracy: 0.9600\n",
      "Epoch 8/20\n",
      "895/895 [==============================] - 1367s 2s/step - loss: 0.1071 - accuracy: 0.9619 - val_loss: 0.1014 - val_accuracy: 0.9635\n",
      "Epoch 9/20\n",
      "895/895 [==============================] - 1413s 2s/step - loss: 0.0972 - accuracy: 0.9650 - val_loss: 0.1000 - val_accuracy: 0.9648\n",
      "Epoch 10/20\n",
      "895/895 [==============================] - 1601s 2s/step - loss: 0.0905 - accuracy: 0.9676 - val_loss: 0.0978 - val_accuracy: 0.9660\n",
      "Epoch 11/20\n",
      "895/895 [==============================] - 1462s 2s/step - loss: 0.0855 - accuracy: 0.9687 - val_loss: 0.0932 - val_accuracy: 0.9679\n",
      "Epoch 12/20\n",
      "895/895 [==============================] - 4839s 5s/step - loss: 0.0810 - accuracy: 0.9714 - val_loss: 0.0954 - val_accuracy: 0.9652\n",
      "Epoch 13/20\n",
      "895/895 [==============================] - 9138s 10s/step - loss: 0.0774 - accuracy: 0.9715 - val_loss: 0.0907 - val_accuracy: 0.9690\n",
      "Epoch 14/20\n",
      "895/895 [==============================] - 1836s 2s/step - loss: 0.0728 - accuracy: 0.9742 - val_loss: 0.1018 - val_accuracy: 0.9651\n",
      "Epoch 15/20\n",
      "895/895 [==============================] - 2169s 2s/step - loss: 0.0661 - accuracy: 0.9767 - val_loss: 0.0959 - val_accuracy: 0.9684\n",
      "Epoch 16/20\n",
      "895/895 [==============================] - 1920s 2s/step - loss: 0.0643 - accuracy: 0.9771 - val_loss: 0.0890 - val_accuracy: 0.9688\n",
      "Epoch 17/20\n",
      "895/895 [==============================] - 1826s 2s/step - loss: 0.0612 - accuracy: 0.9785 - val_loss: 0.0989 - val_accuracy: 0.9695\n",
      "Epoch 18/20\n",
      "895/895 [==============================] - 35140s 39s/step - loss: 0.0561 - accuracy: 0.9802 - val_loss: 0.1018 - val_accuracy: 0.9681\n",
      "Epoch 19/20\n",
      "895/895 [==============================] - 6046s 7s/step - loss: 0.0528 - accuracy: 0.9813 - val_loss: 0.0953 - val_accuracy: 0.9681\n",
      "Epoch 20/20\n",
      "895/895 [==============================] - 1852s 2s/step - loss: 0.0507 - accuracy: 0.9817 - val_loss: 0.0960 - val_accuracy: 0.9704\n"
     ]
    }
   ],
   "source": [
    "history = lstm_model.fit(X_train, y_train, validation_data = [X_val, y_val], epochs = 20, batch_size = 64)\n",
    "# Changed amount of epochs"
   ]
  },
  {
   "cell_type": "markdown",
   "metadata": {},
   "source": [
    "# Save the history\n",
    "pickle.dump(history, open(\"history.p_2.0\", \"wb\"))\n",
    "\n",
    "# Serialize model to JSON\n",
    "lstm_model_json = lstm_model.to_json()\n",
    "with open(\"lstm_model.json_2.0\", \"w\") as json_file:\n",
    "    json_file.write(lstm_model_json)\n",
    "    \n",
    "# Serialize weights to HDF5\n",
    "lstm_model.save_weights(\"lstm_model.h5_2.0\")\n",
    "print(\"Saved model to disk\")"
   ]
  },
  {
   "cell_type": "code",
   "execution_count": 5,
   "metadata": {},
   "outputs": [
    {
     "name": "stdout",
     "output_type": "stream",
     "text": [
      "Loaded model from disk\n"
     ]
    }
   ],
   "source": [
    "# Load the history\n",
    "history = pickle.load(open(\"history.p_2.0\", \"rb\"))\n",
    "\n",
    "# Load json and create model\n",
    "json_file = open('lstm_model.json_2.0', 'r')\n",
    "loaded_model_json = json_file.read()\n",
    "json_file.close()\n",
    "lstm_model = model_from_json(loaded_model_json)\n",
    "\n",
    "# Load weights into model\n",
    "lstm_model.load_weights(\"lstm_model.h5_3.0\")\n",
    "\n",
    "# Compile the model\n",
    "lstm_model.compile(optimizer = 'adam', loss = 'BinaryCrossentropy', metrics = ['accuracy'])\n",
    "\n",
    "# Print for checking for success\n",
    "print(\"Loaded model from disk\")\n"
   ]
  },
  {
   "cell_type": "code",
   "execution_count": 15,
   "metadata": {},
   "outputs": [
    {
     "name": "stdout",
     "output_type": "stream",
     "text": [
      "1789/1789 [==============================] - 439s 245ms/step - loss: 0.0102 - accuracy: 0.9969\n",
      "train loss :  0.010156123898923397\n",
      "train accuracy :  0.9968897104263306\n",
      "224/224 [==============================] - 55s 247ms/step - loss: 0.1558 - accuracy: 0.9719\n",
      "test loss :  0.15576404333114624\n",
      "test accuracy :  0.9719038009643555\n"
     ]
    }
   ],
   "source": [
    "train_loss, train_acc = lstm_model.evaluate(X_train, y_train)\n",
    "print(\"train loss : \", train_loss)\n",
    "print(\"train accuracy : \", train_acc)\n",
    "\n",
    "test_loss, test_acc = lstm_model.evaluate(X_test, y_test)\n",
    "print(\"test loss : \", test_loss)\n",
    "print(\"test accuracy : \", test_acc)"
   ]
  },
  {
   "cell_type": "code",
   "execution_count": 16,
   "metadata": {},
   "outputs": [
    {
     "data": {
      "image/png": "[encoded data removed]",
      "text/plain": [
       "<Figure size 1152x432 with 2 Axes>"
      ]
     },
     "metadata": {
      "needs_background": "light"
     },
     "output_type": "display_data"
    }
   ],
   "source": [
    "# plot the train/validation loss and accuracy\n",
    "def plot_graphs(history, metric):\n",
    "    \n",
    "    plt.plot(history.history[metric])\n",
    "    plt.plot(history.history['val_'+metric], '')\n",
    "    plt.xlabel(\"Epochs\")\n",
    "    plt.ylabel(metric)\n",
    "    plt.legend([metric, 'val_'+metric])\n",
    "\n",
    "\n",
    "plt.figure(figsize=(16, 6))\n",
    "plt.subplot(1, 2, 1)\n",
    "plot_graphs(history, 'accuracy')\n",
    "plt.subplot(1, 2, 2)\n",
    "plot_graphs(history, 'loss')"
   ]
  },
  {
   "cell_type": "code",
   "execution_count": 17,
   "metadata": {},
   "outputs": [
    {
     "name": "stdout",
     "output_type": "stream",
     "text": [
      "224/224 [==============================] - 64s 283ms/step\n"
     ]
    }
   ],
   "source": [
    "cont_test_pred = lstm_model.predict(X_test)\n",
    "y_test_pred = np.where(cont_test_pred >= 0.5, 1, 0)"
   ]
  },
  {
   "cell_type": "code",
   "execution_count": 18,
   "metadata": {},
   "outputs": [
    {
     "data": {
      "text/html": [
       "<div>\n",
       "<style scoped>\n",
       "    .dataframe tbody tr th:only-of-type {\n",
       "        vertical-align: middle;\n",
       "    }\n",
       "\n",
       "    .dataframe tbody tr th {\n",
       "        vertical-align: top;\n",
       "    }\n",
       "\n",
       "    .dataframe thead th {\n",
       "        text-align: right;\n",
       "    }\n",
       "</style>\n",
       "<table border=\"1\" class=\"dataframe\">\n",
       "  <thead>\n",
       "    <tr style=\"text-align: right;\">\n",
       "      <th></th>\n",
       "      <th>0</th>\n",
       "      <th>1</th>\n",
       "      <th>accuracy</th>\n",
       "      <th>macro avg</th>\n",
       "      <th>weighted avg</th>\n",
       "    </tr>\n",
       "  </thead>\n",
       "  <tbody>\n",
       "    <tr>\n",
       "      <th>precision</th>\n",
       "      <td>0.977444</td>\n",
       "      <td>0.966721</td>\n",
       "      <td>0.971904</td>\n",
       "      <td>0.972082</td>\n",
       "      <td>0.971971</td>\n",
       "    </tr>\n",
       "    <tr>\n",
       "      <th>recall</th>\n",
       "      <td>0.964887</td>\n",
       "      <td>0.978636</td>\n",
       "      <td>0.971904</td>\n",
       "      <td>0.971762</td>\n",
       "      <td>0.971904</td>\n",
       "    </tr>\n",
       "    <tr>\n",
       "      <th>f1-score</th>\n",
       "      <td>0.971125</td>\n",
       "      <td>0.972642</td>\n",
       "      <td>0.971904</td>\n",
       "      <td>0.971883</td>\n",
       "      <td>0.971899</td>\n",
       "    </tr>\n",
       "    <tr>\n",
       "      <th>support</th>\n",
       "      <td>3503.000000</td>\n",
       "      <td>3651.000000</td>\n",
       "      <td>0.971904</td>\n",
       "      <td>7154.000000</td>\n",
       "      <td>7154.000000</td>\n",
       "    </tr>\n",
       "  </tbody>\n",
       "</table>\n",
       "</div>"
      ],
      "text/plain": [
       "                     0            1  accuracy    macro avg  weighted avg\n",
       "precision     0.977444     0.966721  0.971904     0.972082      0.971971\n",
       "recall        0.964887     0.978636  0.971904     0.971762      0.971904\n",
       "f1-score      0.971125     0.972642  0.971904     0.971883      0.971899\n",
       "support    3503.000000  3651.000000  0.971904  7154.000000   7154.000000"
      ]
     },
     "execution_count": 18,
     "metadata": {},
     "output_type": "execute_result"
    }
   ],
   "source": [
    "pd.DataFrame(classification_report(y_test, y_test_pred, output_dict = True))"
   ]
  },
  {
   "cell_type": "code",
   "execution_count": 19,
   "metadata": {},
   "outputs": [
    {
     "data": {
      "text/plain": [
       "Text(51.0, 0.5, 'Real Labels')"
      ]
     },
     "execution_count": 19,
     "metadata": {},
     "output_type": "execute_result"
    },
    {
     "data": {
      "image/png": "[encoded data removed]",
      "text/plain": [
       "<Figure size 576x432 with 2 Axes>"
      ]
     },
     "metadata": {
      "needs_background": "light"
     },
     "output_type": "display_data"
    }
   ],
   "source": [
    "# plot the confusion matrix\n",
    "plt.figure(figsize = (8,6))\n",
    "\n",
    "sns.heatmap(confusion_matrix(y_test, y_test_pred), annot=True, fmt='', cmap='Blues')\n",
    "\n",
    "plt.xlabel('Predicted Labels')\n",
    "plt.ylabel('Real Labels')"
   ]
  },
  {
   "cell_type": "markdown",
   "metadata": {},
   "source": [
    "# Per sub-dataset"
   ]
  },
  {
   "cell_type": "code",
   "execution_count": 39,
   "metadata": {},
   "outputs": [
    {
     "name": "stdout",
     "output_type": "stream",
     "text": [
      "Nr. of news articles in Kaggle : 20664\n",
      "Nr. of news articles in McIntire : 6285\n",
      "Nr. of news articles in Reuters : 44487\n",
      "Nr. of news articles in Buzzfeed : 101\n"
     ]
    }
   ],
   "source": [
    "df = pd.read_csv('WELFake_Dataset.csv', index_col = 0)\n",
    "\n",
    "df_kaggle = df.loc[:20799]\n",
    "df_McIntire = df.loc[20800:27134]\n",
    "df_Reuters = df.loc[27135:72032]\n",
    "df_Buzzfeed = df.loc[72033:]\n",
    "\n",
    "df_kaggle = df_kaggle.dropna()\n",
    "df_McIntire = df_McIntire.dropna()\n",
    "df_Reuters = df_Reuters.dropna()\n",
    "df_Buzzfeed = df_Buzzfeed.dropna()\n",
    "\n",
    "print(\"Nr. of news articles in Kaggle :\", len(df_kaggle))\n",
    "print(\"Nr. of news articles in McIntire :\", len(df_McIntire))\n",
    "print(\"Nr. of news articles in Reuters :\", len(df_Reuters))\n",
    "print(\"Nr. of news articles in Buzzfeed :\", len(df_Buzzfeed))"
   ]
  },
  {
   "cell_type": "code",
   "execution_count": 40,
   "metadata": {},
   "outputs": [],
   "source": [
    "df_kaggle_y = df_kaggle.iloc[:, 2]\n",
    "df_kaggle_x = df_kaggle.iloc[:, 1]\n",
    "df_McIntire_y = df_McIntire.iloc[:, 2]\n",
    "df_McIntire_x = df_McIntire.iloc[:, 1]\n",
    "df_Reuters_y = df_Reuters.iloc[:, 2]\n",
    "df_Reuters_x = df_Reuters.iloc[:, 1]\n",
    "df_Buzzfeed_y = df_Buzzfeed.iloc[:, 2]\n",
    "df_Buzzfeed_x = df_Buzzfeed.iloc[:, 1]"
   ]
  },
  {
   "cell_type": "markdown",
   "metadata": {},
   "source": [
    "# Kaggle sub-dataset"
   ]
  },
  {
   "cell_type": "code",
   "execution_count": 41,
   "metadata": {},
   "outputs": [],
   "source": [
    "X_store = []\n",
    "for i in df_kaggle_x[:]:\n",
    "    X_store.append(preprocess_text(i))\n",
    "X = X_store\n",
    "X_2 = tokenizer.texts_to_sequences(texts = X) # Tokenized words as X data from the train dataset\n",
    "\n",
    "kaggle_X = pad_sequences(sequences = X_2, maxlen = max_features, padding = 'pre') # Padding the X data to 4500\n",
    "kaggle_y = df_kaggle_y.values # Subsetting the y data from the train dataset"
   ]
  },
  {
   "cell_type": "code",
   "execution_count": 42,
   "metadata": {},
   "outputs": [
    {
     "name": "stdout",
     "output_type": "stream",
     "text": [
      "646/646 [==============================] - 155s 240ms/step\n"
     ]
    }
   ],
   "source": [
    "kaggle_pred = lstm_model.predict(kaggle_X)\n",
    "kaggle_y_pred = np.where(kaggle_pred >= 0.5, 1, 0)"
   ]
  },
  {
   "cell_type": "code",
   "execution_count": 43,
   "metadata": {},
   "outputs": [
    {
     "data": {
      "text/html": [
       "<div>\n",
       "<style scoped>\n",
       "    .dataframe tbody tr th:only-of-type {\n",
       "        vertical-align: middle;\n",
       "    }\n",
       "\n",
       "    .dataframe tbody tr th {\n",
       "        vertical-align: top;\n",
       "    }\n",
       "\n",
       "    .dataframe thead th {\n",
       "        text-align: right;\n",
       "    }\n",
       "</style>\n",
       "<table border=\"1\" class=\"dataframe\">\n",
       "  <thead>\n",
       "    <tr style=\"text-align: right;\">\n",
       "      <th></th>\n",
       "      <th>0</th>\n",
       "      <th>1</th>\n",
       "      <th>accuracy</th>\n",
       "      <th>macro avg</th>\n",
       "      <th>weighted avg</th>\n",
       "    </tr>\n",
       "  </thead>\n",
       "  <tbody>\n",
       "    <tr>\n",
       "      <th>precision</th>\n",
       "      <td>0.992680</td>\n",
       "      <td>0.991489</td>\n",
       "      <td>0.992063</td>\n",
       "      <td>0.992084</td>\n",
       "      <td>0.992065</td>\n",
       "    </tr>\n",
       "    <tr>\n",
       "      <th>recall</th>\n",
       "      <td>0.990891</td>\n",
       "      <td>0.993161</td>\n",
       "      <td>0.992063</td>\n",
       "      <td>0.992026</td>\n",
       "      <td>0.992063</td>\n",
       "    </tr>\n",
       "    <tr>\n",
       "      <th>f1-score</th>\n",
       "      <td>0.991784</td>\n",
       "      <td>0.992324</td>\n",
       "      <td>0.992063</td>\n",
       "      <td>0.992054</td>\n",
       "      <td>0.992063</td>\n",
       "    </tr>\n",
       "    <tr>\n",
       "      <th>support</th>\n",
       "      <td>9990.000000</td>\n",
       "      <td>10674.000000</td>\n",
       "      <td>0.992063</td>\n",
       "      <td>20664.000000</td>\n",
       "      <td>20664.000000</td>\n",
       "    </tr>\n",
       "  </tbody>\n",
       "</table>\n",
       "</div>"
      ],
      "text/plain": [
       "                     0             1  accuracy     macro avg  weighted avg\n",
       "precision     0.992680      0.991489  0.992063      0.992084      0.992065\n",
       "recall        0.990891      0.993161  0.992063      0.992026      0.992063\n",
       "f1-score      0.991784      0.992324  0.992063      0.992054      0.992063\n",
       "support    9990.000000  10674.000000  0.992063  20664.000000  20664.000000"
      ]
     },
     "execution_count": 43,
     "metadata": {},
     "output_type": "execute_result"
    }
   ],
   "source": [
    "pd.DataFrame(classification_report(kaggle_y, kaggle_y_pred, output_dict = True))"
   ]
  },
  {
   "cell_type": "code",
   "execution_count": 44,
   "metadata": {},
   "outputs": [
    {
     "data": {
      "text/plain": [
       "Text(51.0, 0.5, 'Real Labels')"
      ]
     },
     "execution_count": 44,
     "metadata": {},
     "output_type": "execute_result"
    },
    {
     "data": {
      "image/png": "[encoded data removed]",
      "text/plain": [
       "<Figure size 576x432 with 2 Axes>"
      ]
     },
     "metadata": {
      "needs_background": "light"
     },
     "output_type": "display_data"
    }
   ],
   "source": [
    "# plot the confusion matrix\n",
    "plt.figure(figsize = (8,6))\n",
    "\n",
    "sns.heatmap(confusion_matrix(kaggle_y, kaggle_y_pred), annot=True, fmt='', cmap='Blues')\n",
    "\n",
    "plt.xlabel('Predicted Labels')\n",
    "plt.ylabel('Real Labels')"
   ]
  },
  {
   "cell_type": "markdown",
   "metadata": {},
   "source": [
    "# McIntire"
   ]
  },
  {
   "cell_type": "code",
   "execution_count": 45,
   "metadata": {},
   "outputs": [],
   "source": [
    "X_store = []\n",
    "for i in df_McIntire_x[:]:\n",
    "    X_store.append(preprocess_text(i))\n",
    "X = X_store\n",
    "X_2 = tokenizer.texts_to_sequences(texts = X) # Tokenized words as X data from the train dataset\n",
    "\n",
    "McIntire_X = pad_sequences(sequences = X_2, maxlen = max_features, padding = 'pre') # Padding the X data to 4500\n",
    "McIntire_y = df_McIntire_y.values # Subsetting the y data from the train dataset"
   ]
  },
  {
   "cell_type": "code",
   "execution_count": 48,
   "metadata": {},
   "outputs": [
    {
     "name": "stdout",
     "output_type": "stream",
     "text": [
      "197/197 [==============================] - 44s 225ms/step\n"
     ]
    }
   ],
   "source": [
    "McIntire_pred = lstm_model.predict(McIntire_X)\n",
    "McIntire_y_pred = np.where(McIntire_pred >= 0.5, 1, 0)"
   ]
  },
  {
   "cell_type": "code",
   "execution_count": 49,
   "metadata": {},
   "outputs": [
    {
     "data": {
      "text/html": [
       "<div>\n",
       "<style scoped>\n",
       "    .dataframe tbody tr th:only-of-type {\n",
       "        vertical-align: middle;\n",
       "    }\n",
       "\n",
       "    .dataframe tbody tr th {\n",
       "        vertical-align: top;\n",
       "    }\n",
       "\n",
       "    .dataframe thead th {\n",
       "        text-align: right;\n",
       "    }\n",
       "</style>\n",
       "<table border=\"1\" class=\"dataframe\">\n",
       "  <thead>\n",
       "    <tr style=\"text-align: right;\">\n",
       "      <th></th>\n",
       "      <th>0</th>\n",
       "      <th>1</th>\n",
       "      <th>accuracy</th>\n",
       "      <th>macro avg</th>\n",
       "      <th>weighted avg</th>\n",
       "    </tr>\n",
       "  </thead>\n",
       "  <tbody>\n",
       "    <tr>\n",
       "      <th>precision</th>\n",
       "      <td>0.993117</td>\n",
       "      <td>0.991342</td>\n",
       "      <td>0.992204</td>\n",
       "      <td>0.992230</td>\n",
       "      <td>0.992206</td>\n",
       "    </tr>\n",
       "    <tr>\n",
       "      <th>recall</th>\n",
       "      <td>0.990844</td>\n",
       "      <td>0.993492</td>\n",
       "      <td>0.992204</td>\n",
       "      <td>0.992168</td>\n",
       "      <td>0.992204</td>\n",
       "    </tr>\n",
       "    <tr>\n",
       "      <th>f1-score</th>\n",
       "      <td>0.991979</td>\n",
       "      <td>0.992416</td>\n",
       "      <td>0.992204</td>\n",
       "      <td>0.992198</td>\n",
       "      <td>0.992203</td>\n",
       "    </tr>\n",
       "    <tr>\n",
       "      <th>support</th>\n",
       "      <td>3058.000000</td>\n",
       "      <td>3227.000000</td>\n",
       "      <td>0.992204</td>\n",
       "      <td>6285.000000</td>\n",
       "      <td>6285.000000</td>\n",
       "    </tr>\n",
       "  </tbody>\n",
       "</table>\n",
       "</div>"
      ],
      "text/plain": [
       "                     0            1  accuracy    macro avg  weighted avg\n",
       "precision     0.993117     0.991342  0.992204     0.992230      0.992206\n",
       "recall        0.990844     0.993492  0.992204     0.992168      0.992204\n",
       "f1-score      0.991979     0.992416  0.992204     0.992198      0.992203\n",
       "support    3058.000000  3227.000000  0.992204  6285.000000   6285.000000"
      ]
     },
     "execution_count": 49,
     "metadata": {},
     "output_type": "execute_result"
    }
   ],
   "source": [
    "pd.DataFrame(classification_report(McIntire_y, McIntire_y_pred, output_dict = True))"
   ]
  },
  {
   "cell_type": "code",
   "execution_count": 50,
   "metadata": {},
   "outputs": [
    {
     "data": {
      "text/plain": [
       "Text(51.0, 0.5, 'Real Labels')"
      ]
     },
     "execution_count": 50,
     "metadata": {},
     "output_type": "execute_result"
    },
    {
     "data": {
      "image/png": "[encoded data removed]",
      "text/plain": [
       "<Figure size 576x432 with 2 Axes>"
      ]
     },
     "metadata": {
      "needs_background": "light"
     },
     "output_type": "display_data"
    }
   ],
   "source": [
    "# plot the confusion matrix\n",
    "plt.figure(figsize = (8,6))\n",
    "\n",
    "sns.heatmap(confusion_matrix(McIntire_y, McIntire_y_pred), annot=True, fmt='', cmap='Blues')\n",
    "\n",
    "plt.xlabel('Predicted Labels')\n",
    "plt.ylabel('Real Labels')"
   ]
  },
  {
   "cell_type": "markdown",
   "metadata": {},
   "source": [
    "# Reuters"
   ]
  },
  {
   "cell_type": "code",
   "execution_count": 51,
   "metadata": {},
   "outputs": [],
   "source": [
    "X_store = []\n",
    "for i in df_Reuters_x[:]:\n",
    "    X_store.append(preprocess_text(i))\n",
    "X = X_store\n",
    "X_2 = tokenizer.texts_to_sequences(texts = X) # Tokenized words as X data from the train dataset\n",
    "\n",
    "Reuters_X = pad_sequences(sequences = X_2, maxlen = max_features, padding = 'pre') # Padding the X data to 4500\n",
    "Reuters_y = df_Reuters_y.values # Subsetting the y data from the train dataset"
   ]
  },
  {
   "cell_type": "code",
   "execution_count": 53,
   "metadata": {},
   "outputs": [
    {
     "name": "stdout",
     "output_type": "stream",
     "text": [
      "1391/1391 [==============================] - 357s 257ms/step\n"
     ]
    }
   ],
   "source": [
    "Reuters_pred = lstm_model.predict(Reuters_X)\n",
    "Reuters_y_pred = np.where(Reuters_pred >= 0.5, 1, 0)"
   ]
  },
  {
   "cell_type": "code",
   "execution_count": 54,
   "metadata": {},
   "outputs": [
    {
     "data": {
      "text/html": [
       "<div>\n",
       "<style scoped>\n",
       "    .dataframe tbody tr th:only-of-type {\n",
       "        vertical-align: middle;\n",
       "    }\n",
       "\n",
       "    .dataframe tbody tr th {\n",
       "        vertical-align: top;\n",
       "    }\n",
       "\n",
       "    .dataframe thead th {\n",
       "        text-align: right;\n",
       "    }\n",
       "</style>\n",
       "<table border=\"1\" class=\"dataframe\">\n",
       "  <thead>\n",
       "    <tr style=\"text-align: right;\">\n",
       "      <th></th>\n",
       "      <th>0</th>\n",
       "      <th>1</th>\n",
       "      <th>accuracy</th>\n",
       "      <th>macro avg</th>\n",
       "      <th>weighted avg</th>\n",
       "    </tr>\n",
       "  </thead>\n",
       "  <tbody>\n",
       "    <tr>\n",
       "      <th>precision</th>\n",
       "      <td>0.994321</td>\n",
       "      <td>0.990024</td>\n",
       "      <td>0.992133</td>\n",
       "      <td>0.992172</td>\n",
       "      <td>0.992142</td>\n",
       "    </tr>\n",
       "    <tr>\n",
       "      <th>recall</th>\n",
       "      <td>0.989697</td>\n",
       "      <td>0.994502</td>\n",
       "      <td>0.992133</td>\n",
       "      <td>0.992099</td>\n",
       "      <td>0.992133</td>\n",
       "    </tr>\n",
       "    <tr>\n",
       "      <th>f1-score</th>\n",
       "      <td>0.992003</td>\n",
       "      <td>0.992258</td>\n",
       "      <td>0.992133</td>\n",
       "      <td>0.992130</td>\n",
       "      <td>0.992132</td>\n",
       "    </tr>\n",
       "    <tr>\n",
       "      <th>support</th>\n",
       "      <td>21935.000000</td>\n",
       "      <td>22552.000000</td>\n",
       "      <td>0.992133</td>\n",
       "      <td>44487.000000</td>\n",
       "      <td>44487.000000</td>\n",
       "    </tr>\n",
       "  </tbody>\n",
       "</table>\n",
       "</div>"
      ],
      "text/plain": [
       "                      0             1  accuracy     macro avg  weighted avg\n",
       "precision      0.994321      0.990024  0.992133      0.992172      0.992142\n",
       "recall         0.989697      0.994502  0.992133      0.992099      0.992133\n",
       "f1-score       0.992003      0.992258  0.992133      0.992130      0.992132\n",
       "support    21935.000000  22552.000000  0.992133  44487.000000  44487.000000"
      ]
     },
     "execution_count": 54,
     "metadata": {},
     "output_type": "execute_result"
    }
   ],
   "source": [
    "pd.DataFrame(classification_report(Reuters_y, Reuters_y_pred, output_dict = True))"
   ]
  },
  {
   "cell_type": "code",
   "execution_count": 55,
   "metadata": {},
   "outputs": [
    {
     "data": {
      "text/plain": [
       "Text(51.0, 0.5, 'Real Labels')"
      ]
     },
     "execution_count": 55,
     "metadata": {},
     "output_type": "execute_result"
    },
    {
     "data": {
      "image/png": "[encoded data removed]",
      "text/plain": [
       "<Figure size 576x432 with 2 Axes>"
      ]
     },
     "metadata": {
      "needs_background": "light"
     },
     "output_type": "display_data"
    }
   ],
   "source": [
    "# plot the confusion matrix\n",
    "plt.figure(figsize = (8,6))\n",
    "\n",
    "sns.heatmap(confusion_matrix(Reuters_y, Reuters_y_pred), annot=True, fmt='', cmap='Blues')\n",
    "\n",
    "plt.xlabel('Predicted Labels')\n",
    "plt.ylabel('Real Labels')"
   ]
  },
  {
   "cell_type": "markdown",
   "metadata": {},
   "source": [
    "# Buzzfeed"
   ]
  },
  {
   "cell_type": "code",
   "execution_count": 56,
   "metadata": {},
   "outputs": [],
   "source": [
    "X_store = []\n",
    "for i in df_Buzzfeed_x[:]:\n",
    "    X_store.append(preprocess_text(i))\n",
    "X = X_store\n",
    "X_2 = tokenizer.texts_to_sequences(texts = X) # Tokenized words as X data from the train dataset\n",
    "\n",
    "Buzzfeed_X = pad_sequences(sequences = X_2, maxlen = max_features, padding = 'pre') # Padding the X data to 4500\n",
    "Buzzfeed_y = df_Buzzfeed_y.values # Subsetting the y data from the train dataset"
   ]
  },
  {
   "cell_type": "code",
   "execution_count": 57,
   "metadata": {},
   "outputs": [
    {
     "name": "stdout",
     "output_type": "stream",
     "text": [
      "4/4 [==============================] - 1s 212ms/step\n"
     ]
    }
   ],
   "source": [
    "Buzzfeed_pred = lstm_model.predict(Buzzfeed_X)\n",
    "Buzzfeed_y_pred = np.where(Buzzfeed_pred >= 0.5, 1, 0)"
   ]
  },
  {
   "cell_type": "code",
   "execution_count": 58,
   "metadata": {},
   "outputs": [
    {
     "data": {
      "text/html": [
       "<div>\n",
       "<style scoped>\n",
       "    .dataframe tbody tr th:only-of-type {\n",
       "        vertical-align: middle;\n",
       "    }\n",
       "\n",
       "    .dataframe tbody tr th {\n",
       "        vertical-align: top;\n",
       "    }\n",
       "\n",
       "    .dataframe thead th {\n",
       "        text-align: right;\n",
       "    }\n",
       "</style>\n",
       "<table border=\"1\" class=\"dataframe\">\n",
       "  <thead>\n",
       "    <tr style=\"text-align: right;\">\n",
       "      <th></th>\n",
       "      <th>0</th>\n",
       "      <th>1</th>\n",
       "      <th>accuracy</th>\n",
       "      <th>macro avg</th>\n",
       "      <th>weighted avg</th>\n",
       "    </tr>\n",
       "  </thead>\n",
       "  <tbody>\n",
       "    <tr>\n",
       "      <th>precision</th>\n",
       "      <td>1.0</td>\n",
       "      <td>1.0</td>\n",
       "      <td>1.0</td>\n",
       "      <td>1.0</td>\n",
       "      <td>1.0</td>\n",
       "    </tr>\n",
       "    <tr>\n",
       "      <th>recall</th>\n",
       "      <td>1.0</td>\n",
       "      <td>1.0</td>\n",
       "      <td>1.0</td>\n",
       "      <td>1.0</td>\n",
       "      <td>1.0</td>\n",
       "    </tr>\n",
       "    <tr>\n",
       "      <th>f1-score</th>\n",
       "      <td>1.0</td>\n",
       "      <td>1.0</td>\n",
       "      <td>1.0</td>\n",
       "      <td>1.0</td>\n",
       "      <td>1.0</td>\n",
       "    </tr>\n",
       "    <tr>\n",
       "      <th>support</th>\n",
       "      <td>45.0</td>\n",
       "      <td>56.0</td>\n",
       "      <td>1.0</td>\n",
       "      <td>101.0</td>\n",
       "      <td>101.0</td>\n",
       "    </tr>\n",
       "  </tbody>\n",
       "</table>\n",
       "</div>"
      ],
      "text/plain": [
       "              0     1  accuracy  macro avg  weighted avg\n",
       "precision   1.0   1.0       1.0        1.0           1.0\n",
       "recall      1.0   1.0       1.0        1.0           1.0\n",
       "f1-score    1.0   1.0       1.0        1.0           1.0\n",
       "support    45.0  56.0       1.0      101.0         101.0"
      ]
     },
     "execution_count": 58,
     "metadata": {},
     "output_type": "execute_result"
    }
   ],
   "source": [
    "pd.DataFrame(classification_report(Buzzfeed_y, Buzzfeed_y_pred, output_dict = True))"
   ]
  },
  {
   "cell_type": "code",
   "execution_count": 59,
   "metadata": {},
   "outputs": [
    {
     "data": {
      "text/plain": [
       "Text(51.0, 0.5, 'Real Labels')"
      ]
     },
     "execution_count": 59,
     "metadata": {},
     "output_type": "execute_result"
    },
    {
     "data": {
      "image/png": "[encoded data removed]",
      "text/plain": [
       "<Figure size 576x432 with 2 Axes>"
      ]
     },
     "metadata": {
      "needs_background": "light"
     },
     "output_type": "display_data"
    }
   ],
   "source": [
    "# plot the confusion matrix\n",
    "plt.figure(figsize = (8,6))\n",
    "\n",
    "sns.heatmap(confusion_matrix(Buzzfeed_y, Buzzfeed_y_pred), annot=True, fmt='', cmap='Blues')\n",
    "\n",
    "plt.xlabel('Predicted Labels')\n",
    "plt.ylabel('Real Labels')"
   ]
  },
  {
   "cell_type": "code",
   "execution_count": null,
   "metadata": {},
   "outputs": [],
   "source": []
  }
 ],
 "metadata": {
  "kernelspec": {
   "display_name": "Python 3",
   "language": "python",
   "name": "python3"
  },
  "language_info": {
   "codemirror_mode": {
    "name": "ipython",
    "version": 3
   },
   "file_extension": ".py",
   "mimetype": "text/x-python",
   "name": "python",
   "nbconvert_exporter": "python",
   "pygments_lexer": "ipython3",
   "version": "3.8.3"
  }
 },
 "nbformat": 4,
 "nbformat_minor": 4
}
